{
 "cells": [
  {
   "cell_type": "code",
   "execution_count": 1,
   "metadata": {},
   "outputs": [
    {
     "name": "stderr",
     "output_type": "stream",
     "text": [
      "Using TensorFlow backend.\n"
     ]
    },
    {
     "name": "stdout",
     "output_type": "stream",
     "text": [
      "['augmented images', 'sample_submission_ns2btKE.csv', 'test_ApKoW4T.csv', 'train']\n"
     ]
    }
   ],
   "source": [
    "import cv2\n",
    "import glob\n",
    "import numpy as np \n",
    "import pandas as pd \n",
    "import matplotlib.pyplot as plt\n",
    "import seaborn as sns\n",
    "from PIL import Image, ImageOps\n",
    "from PIL import ImageFilter\n",
    "import torch\n",
    "from sklearn.model_selection import train_test_split\n",
    "from sklearn.preprocessing import OneHotEncoder\n",
    "from tqdm import tqdm_notebook as tqdm\n",
    "from skimage.io import imread, imsave\n",
    "from keras.preprocessing.image import ImageDataGenerator ,img_to_array\n",
    "from keras.metrics import binary_crossentropy\n",
    "from keras.models import Sequential, Model\n",
    "from keras.layers import BatchNormalization, Conv2D, Dense, Activation, Flatten, MaxPool2D, Dropout\n",
    "from keras.optimizers import Adam\n",
    "from keras.regularizers import l2\n",
    "# Input data files are available in the \"../input/\" directory.\n",
    "# For example, running this (by clicking run or pressing Shift+Enter) will list the files in the input directory\n",
    "import warnings\n",
    "warnings.filterwarnings('ignore')\n",
    "import time\n",
    "import os\n",
    "print(os.listdir(\"../ship dataset\"))"
   ]
  },
  {
   "cell_type": "code",
   "execution_count": 2,
   "metadata": {},
   "outputs": [
    {
     "data": {
      "text/html": [
       "<div>\n",
       "<style scoped>\n",
       "    .dataframe tbody tr th:only-of-type {\n",
       "        vertical-align: middle;\n",
       "    }\n",
       "\n",
       "    .dataframe tbody tr th {\n",
       "        vertical-align: top;\n",
       "    }\n",
       "\n",
       "    .dataframe thead th {\n",
       "        text-align: right;\n",
       "    }\n",
       "</style>\n",
       "<table border=\"1\" class=\"dataframe\">\n",
       "  <thead>\n",
       "    <tr style=\"text-align: right;\">\n",
       "      <th></th>\n",
       "      <th>image</th>\n",
       "      <th>category</th>\n",
       "    </tr>\n",
       "  </thead>\n",
       "  <tbody>\n",
       "    <tr>\n",
       "      <th>0</th>\n",
       "      <td>2823080.jpg</td>\n",
       "      <td>1</td>\n",
       "    </tr>\n",
       "    <tr>\n",
       "      <th>1</th>\n",
       "      <td>0mr_2821047.jpg</td>\n",
       "      <td>1</td>\n",
       "    </tr>\n",
       "    <tr>\n",
       "      <th>2</th>\n",
       "      <td>0rt_2853900.jpg</td>\n",
       "      <td>5</td>\n",
       "    </tr>\n",
       "    <tr>\n",
       "      <th>3</th>\n",
       "      <td>0mr_1613703.jpg</td>\n",
       "      <td>4</td>\n",
       "    </tr>\n",
       "    <tr>\n",
       "      <th>4</th>\n",
       "      <td>2028965.jpg</td>\n",
       "      <td>4</td>\n",
       "    </tr>\n",
       "  </tbody>\n",
       "</table>\n",
       "</div>"
      ],
      "text/plain": [
       "             image  category\n",
       "0      2823080.jpg         1\n",
       "1  0mr_2821047.jpg         1\n",
       "2  0rt_2853900.jpg         5\n",
       "3  0mr_1613703.jpg         4\n",
       "4      2028965.jpg         4"
      ]
     },
     "execution_count": 2,
     "metadata": {},
     "output_type": "execute_result"
    }
   ],
   "source": [
    "# Loading augmented training dataset\n",
    "training_data = pd.read_csv('../ship dataset/train/train_augmented.csv')\n",
    "training_data.head()"
   ]
  },
  {
   "cell_type": "code",
   "execution_count": 3,
   "metadata": {},
   "outputs": [
    {
     "data": {
      "image/png": "[encoded data removed]",
      "text/plain": [
       "<Figure size 432x288 with 1 Axes>"
      ]
     },
     "metadata": {},
     "output_type": "display_data"
    }
   ],
   "source": [
    "#Pie Chart\n",
    "number_of_ships_in_classes = [training_data['category'].value_counts()[1], training_data['category'].value_counts()[2],\n",
    "                              training_data['category'].value_counts()[3], training_data['category'].value_counts()[4],\n",
    "                              training_data['category'].value_counts()[5]];\n",
    "\n",
    "percentages = [training_data['category'].value_counts()[1]/len(training_data),\n",
    "               training_data['category'].value_counts()[2]/len(training_data),\n",
    "               training_data['category'].value_counts()[3]/len(training_data),\n",
    "               training_data['category'].value_counts()[4]/len(training_data),\n",
    "               training_data['category'].value_counts()[5]/len(training_data)]\n",
    "\n",
    "plt.pie (number_of_ships_in_classes, labels=['Cargo - '+ format(percentages[0]*100, '.2f') + '%',\n",
    "                                             'Military - '+ format(percentages[1]*100, '.2f') + '%',\n",
    "                                             'Carrier - '+ format(percentages[2]*100, '.2f') + '%', \n",
    "                                             'Cruise - '+ format(percentages[3]*100, '.2f') + '%', \n",
    "                                             'Tankers - '+ format(percentages[4]*100, '.2f') + '%'], radius = 1.5);"
   ]
  },
  {
   "cell_type": "code",
   "execution_count": 4,
   "metadata": {},
   "outputs": [
    {
     "name": "stdout",
     "output_type": "stream",
     "text": [
      "Cargo    : 4000 \n",
      "Military : 4000 \n",
      "Carrier  : 4000 \n",
      "Cruise   : 4000 \n",
      "Tankers  : 4000\n"
     ]
    }
   ],
   "source": [
    "print('Cargo    : {} \\nMilitary : {} \\nCarrier  : {} \\nCruise   : {} \\nTankers  : {}'.format(number_of_ships_in_classes[0],\n",
    "                                                                                             number_of_ships_in_classes[1],\n",
    "                                                                                             number_of_ships_in_classes[2],\n",
    "                                                                                             number_of_ships_in_classes[3],\n",
    "                                                                                             number_of_ships_in_classes[4]))"
   ]
  },
  {
   "cell_type": "code",
   "execution_count": 12,
   "metadata": {},
   "outputs": [
    {
     "data": {
      "application/vnd.jupyter.widget-view+json": {
       "model_id": "07ee4197e57444e79ce33d901701793a",
       "version_major": 2,
       "version_minor": 0
      },
      "text/plain": [
       "HBox(children=(HTML(value=''), FloatProgress(value=0.0, max=20000.0), HTML(value='')))"
      ]
     },
     "metadata": {},
     "output_type": "display_data"
    },
    {
     "name": "stdout",
     "output_type": "stream",
     "text": [
      "\n"
     ]
    },
    {
     "ename": "MemoryError",
     "evalue": "Unable to allocate 707. KiB for an array with shape (158, 191, 3) and data type float64",
     "output_type": "error",
     "traceback": [
      "\u001b[1;31m---------------------------------------------------------------------------\u001b[0m",
      "\u001b[1;31mMemoryError\u001b[0m                               Traceback (most recent call last)",
      "\u001b[1;32m<ipython-input-12-d72ebba05c80>\u001b[0m in \u001b[0;36m<module>\u001b[1;34m\u001b[0m\n\u001b[0;32m      4\u001b[0m     \u001b[0mimage_path\u001b[0m \u001b[1;33m=\u001b[0m \u001b[1;34m'../ship dataset/train/images_augmented/'\u001b[0m\u001b[1;33m+\u001b[0m \u001b[0mimg_name\u001b[0m\u001b[1;33m\u001b[0m\u001b[1;33m\u001b[0m\u001b[0m\n\u001b[0;32m      5\u001b[0m     \u001b[0mimg\u001b[0m \u001b[1;33m=\u001b[0m \u001b[0mimread\u001b[0m\u001b[1;33m(\u001b[0m\u001b[0mimage_path\u001b[0m\u001b[1;33m)\u001b[0m\u001b[1;33m\u001b[0m\u001b[1;33m\u001b[0m\u001b[0m\n\u001b[1;32m----> 6\u001b[1;33m     \u001b[0mimg\u001b[0m \u001b[1;33m=\u001b[0m \u001b[0mimg\u001b[0m\u001b[1;33m/\u001b[0m\u001b[1;36m255\u001b[0m\u001b[1;33m\u001b[0m\u001b[1;33m\u001b[0m\u001b[0m\n\u001b[0m\u001b[0;32m      7\u001b[0m     \u001b[0mtrain_img\u001b[0m\u001b[1;33m.\u001b[0m\u001b[0mappend\u001b[0m\u001b[1;33m(\u001b[0m\u001b[0mimg\u001b[0m\u001b[1;33m)\u001b[0m\u001b[1;33m\u001b[0m\u001b[1;33m\u001b[0m\u001b[0m\n\u001b[0;32m      8\u001b[0m \u001b[1;33m\u001b[0m\u001b[0m\n",
      "\u001b[1;31mMemoryError\u001b[0m: Unable to allocate 707. KiB for an array with shape (158, 191, 3) and data type float64"
     ]
    }
   ],
   "source": [
    "#Loading Images\n",
    "train_img = []\n",
    "for img_name in tqdm(training_data['image']):\n",
    "    image_path = '../ship dataset/train/images_augmented/'+ img_name\n",
    "    img = imread(image_path)\n",
    "    img = img/255\n",
    "    train_img.append(img)\n",
    "\n",
    "train_x = np.array(train_img)\n",
    "train_y = training_data['category'].values\n",
    "train_x.shape, train_y.shape"
   ]
  },
  {
   "cell_type": "code",
   "execution_count": 11,
   "metadata": {},
   "outputs": [],
   "source": [
    "del train_img"
   ]
  },
  {
   "cell_type": "code",
   "execution_count": null,
   "metadata": {},
   "outputs": [],
   "source": []
  }
 ],
 "metadata": {
  "kernelspec": {
   "display_name": "Python 3",
   "language": "python",
   "name": "python3"
  },
  "language_info": {
   "codemirror_mode": {
    "name": "ipython",
    "version": 3
   },
   "file_extension": ".py",
   "mimetype": "text/x-python",
   "name": "python",
   "nbconvert_exporter": "python",
   "pygments_lexer": "ipython3",
   "version": "3.7.7"
  }
 },
 "nbformat": 4,
 "nbformat_minor": 4
}
