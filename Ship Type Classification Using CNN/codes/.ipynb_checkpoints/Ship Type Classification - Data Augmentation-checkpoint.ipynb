{
 "cells": [
  {
   "cell_type": "markdown",
   "metadata": {},
   "source": [
    "## Importing Required Libraries"
   ]
  },
  {
   "cell_type": "code",
   "execution_count": 1,
   "metadata": {},
   "outputs": [
    {
     "name": "stderr",
     "output_type": "stream",
     "text": [
      "Using TensorFlow backend.\n"
     ]
    },
    {
     "name": "stdout",
     "output_type": "stream",
     "text": [
      "['augmented images', 'sample_submission_ns2btKE.csv', 'test_ApKoW4T.csv', 'train']\n"
     ]
    }
   ],
   "source": [
    "import cv2\n",
    "import glob\n",
    "import numpy as np \n",
    "import pandas as pd \n",
    "import matplotlib.pyplot as plt\n",
    "from tqdm import tqdm_notebook as tqdm\n",
    "from skimage.io import imread, imsave\n",
    "import warnings\n",
    "warnings.filterwarnings('ignore')\n",
    "import time\n",
    "import os\n",
    "print(os.listdir(\"../ship dataset\"))"
   ]
  },
  {
   "cell_type": "markdown",
   "metadata": {},
   "source": [
    "## Data Preprocessing"
   ]
  },
  {
   "cell_type": "code",
   "execution_count": 2,
   "metadata": {},
   "outputs": [
    {
     "data": {
      "text/html": [
       "<div>\n",
       "<style scoped>\n",
       "    .dataframe tbody tr th:only-of-type {\n",
       "        vertical-align: middle;\n",
       "    }\n",
       "\n",
       "    .dataframe tbody tr th {\n",
       "        vertical-align: top;\n",
       "    }\n",
       "\n",
       "    .dataframe thead th {\n",
       "        text-align: right;\n",
       "    }\n",
       "</style>\n",
       "<table border=\"1\" class=\"dataframe\">\n",
       "  <thead>\n",
       "    <tr style=\"text-align: right;\">\n",
       "      <th></th>\n",
       "      <th>image</th>\n",
       "      <th>category</th>\n",
       "    </tr>\n",
       "  </thead>\n",
       "  <tbody>\n",
       "    <tr>\n",
       "      <th>0</th>\n",
       "      <td>2823080.jpg</td>\n",
       "      <td>1</td>\n",
       "    </tr>\n",
       "    <tr>\n",
       "      <th>1</th>\n",
       "      <td>2870024.jpg</td>\n",
       "      <td>1</td>\n",
       "    </tr>\n",
       "    <tr>\n",
       "      <th>2</th>\n",
       "      <td>2662125.jpg</td>\n",
       "      <td>2</td>\n",
       "    </tr>\n",
       "    <tr>\n",
       "      <th>3</th>\n",
       "      <td>2900420.jpg</td>\n",
       "      <td>3</td>\n",
       "    </tr>\n",
       "    <tr>\n",
       "      <th>4</th>\n",
       "      <td>2804883.jpg</td>\n",
       "      <td>2</td>\n",
       "    </tr>\n",
       "  </tbody>\n",
       "</table>\n",
       "</div>"
      ],
      "text/plain": [
       "         image  category\n",
       "0  2823080.jpg         1\n",
       "1  2870024.jpg         1\n",
       "2  2662125.jpg         2\n",
       "3  2900420.jpg         3\n",
       "4  2804883.jpg         2"
      ]
     },
     "execution_count": 2,
     "metadata": {},
     "output_type": "execute_result"
    }
   ],
   "source": [
    "# Loading training dataset\n",
    "train_data = pd.read_csv('../ship dataset/train/train.csv')\n",
    "train_data.head()"
   ]
  },
  {
   "cell_type": "code",
   "execution_count": 3,
   "metadata": {},
   "outputs": [
    {
     "data": {
      "image/png": "[encoded data removed]",
      "text/plain": [
       "<Figure size 432x288 with 1 Axes>"
      ]
     },
     "metadata": {},
     "output_type": "display_data"
    }
   ],
   "source": [
    "#Pie Chart\n",
    "number_of_ships_in_classes = [train_data['category'].value_counts()[1], train_data['category'].value_counts()[2],\n",
    "                              train_data['category'].value_counts()[3], train_data['category'].value_counts()[4],\n",
    "                              train_data['category'].value_counts()[5]];\n",
    "\n",
    "percentages = [train_data['category'].value_counts()[1]/len(train_data),\n",
    "               train_data['category'].value_counts()[2]/len(train_data),\n",
    "               train_data['category'].value_counts()[3]/len(train_data),\n",
    "               train_data['category'].value_counts()[4]/len(train_data),\n",
    "               train_data['category'].value_counts()[5]/len(train_data)]\n",
    "\n",
    "plt.pie (number_of_ships_in_classes, labels=['Cargo - '+ format(percentages[0]*100, '.2f') + '%',\n",
    "                                             'Military - '+ format(percentages[1]*100, '.2f') + '%',\n",
    "                                             'Carrier - '+ format(percentages[2]*100, '.2f') + '%', \n",
    "                                             'Cruise - '+ format(percentages[3]*100, '.2f') + '%', \n",
    "                                             'Tankers - '+ format(percentages[4]*100, '.2f') + '%'], radius = 1.5);"
   ]
  },
  {
   "cell_type": "code",
   "execution_count": 4,
   "metadata": {},
   "outputs": [
    {
     "data": {
      "image/png": "[encoded data removed]",
      "text/plain": [
       "<Figure size 432x288 with 1 Axes>"
      ]
     },
     "metadata": {
      "needs_background": "light"
     },
     "output_type": "display_data"
    }
   ],
   "source": [
    "#Bar Chart\n",
    "fig = plt.figure()\n",
    "ax = fig.add_axes([0,0,1,1])\n",
    "ax.bar(['Cargo', 'Military', 'Carrier', 'Cruise', 'Tankers'], number_of_ships_in_classes, \n",
    "       color=['#1F77B4', '#FF7F0E', '#2CA02C', '#D62728', '#9467BD'])\n",
    "plt.show()"
   ]
  },
  {
   "cell_type": "code",
   "execution_count": 5,
   "metadata": {},
   "outputs": [
    {
     "name": "stdout",
     "output_type": "stream",
     "text": [
      "Cargo    : 2120 \n",
      "Military : 1167 \n",
      "Carrier  : 916 \n",
      "Cruise   : 832 \n",
      "Tankers  : 1217\n"
     ]
    }
   ],
   "source": [
    "print('Cargo    : {} \\nMilitary : {} \\nCarrier  : {} \\nCruise   : {} \\nTankers  : {}'.format(number_of_ships_in_classes[0],\n",
    "                                                                                             number_of_ships_in_classes[1],\n",
    "                                                                                             number_of_ships_in_classes[2],\n",
    "                                                                                             number_of_ships_in_classes[3],\n",
    "                                                                                             number_of_ships_in_classes[4]))"
   ]
  },
  {
   "cell_type": "markdown",
   "metadata": {},
   "source": [
    "## Data Augmentation"
   ]
  },
  {
   "cell_type": "code",
   "execution_count": 8,
   "metadata": {},
   "outputs": [
    {
     "data": {
      "application/vnd.jupyter.widget-view+json": {
       "model_id": "06ed70ca69604065848b162e00a4909d",
       "version_major": 2,
       "version_minor": 0
      },
      "text/plain": [
       "HBox(children=(HTML(value=''), FloatProgress(value=0.0, max=832.0), HTML(value='')))"
      ]
     },
     "metadata": {},
     "output_type": "display_data"
    },
    {
     "name": "stdout",
     "output_type": "stream",
     "text": [
      "\n"
     ]
    }
   ],
   "source": [
    "import os\n",
    "from PIL import Image, ImageOps\n",
    "from PIL import ImageFilter\n",
    "\n",
    "train_data4 = train_data[train_data['category']==4]\n",
    "\n",
    "for count in range(0,1):\n",
    "    for imagefile in tqdm(train_data4['image']):\n",
    "        image_path = '../ship dataset/train/images/' + imagefile\n",
    "        im=Image.open(image_path)\n",
    "        im=im.convert(\"RGB\")\n",
    "        im_flip = ImageOps.flip(im)\n",
    "        im_mirror = ImageOps.mirror(im)\n",
    "        im_rotate = im.rotate(45)\n",
    "        im_blur=im.filter(ImageFilter.GaussianBlur)\n",
    "        im_unsharp=im.filter(ImageFilter.UnsharpMask)\n",
    "    \n",
    "        im_flip.save(str(count)+'fl'+imagefile)\n",
    "        im_mirror.save(str(count)+'mr_'+imagefile)\n",
    "        im_rotate.save(str(count)+'rt_'+imagefile)\n",
    "        im_blur.save(str(count)+'bl_'+imagefile)\n",
    "        im_unsharp.save(str(count)+'un_'+imagefile)"
   ]
  },
  {
   "cell_type": "code",
   "execution_count": 9,
   "metadata": {},
   "outputs": [
    {
     "data": {
      "application/vnd.jupyter.widget-view+json": {
       "model_id": "de09aa3c1ee94aeb84287ceabf47e960",
       "version_major": 2,
       "version_minor": 0
      },
      "text/plain": [
       "HBox(children=(HTML(value=''), FloatProgress(value=0.0, max=916.0), HTML(value='')))"
      ]
     },
     "metadata": {},
     "output_type": "display_data"
    },
    {
     "name": "stdout",
     "output_type": "stream",
     "text": [
      "\n"
     ]
    }
   ],
   "source": [
    "train_data3 = train_data[train_data['category']==3]\n",
    "\n",
    "for count in range(0,1):\n",
    "    for imagefile in tqdm(train_data3['image']):\n",
    "        image_path = '../ship dataset/train/images/' + imagefile\n",
    "        im=Image.open(image_path)\n",
    "        im=im.convert(\"RGB\")\n",
    "        im_mirror = ImageOps.mirror(im)\n",
    "        im_rotate = im.rotate(45)\n",
    "        im_blur=im.filter(ImageFilter.GaussianBlur)\n",
    "        im_unsharp=im.filter(ImageFilter.UnsharpMask)\n",
    "    \n",
    "        im_mirror.save(str(count)+'mr_'+imagefile)\n",
    "        im_rotate.save(str(count)+'rt_'+imagefile)\n",
    "        im_blur.save(str(count)+'bl_'+imagefile)\n",
    "        im_unsharp.save(str(count)+'un_'+imagefile)"
   ]
  },
  {
   "cell_type": "code",
   "execution_count": 10,
   "metadata": {},
   "outputs": [
    {
     "data": {
      "application/vnd.jupyter.widget-view+json": {
       "model_id": "3c0dd68389ac4b059b7dbfcd94951be3",
       "version_major": 2,
       "version_minor": 0
      },
      "text/plain": [
       "HBox(children=(HTML(value=''), FloatProgress(value=0.0, max=1167.0), HTML(value='')))"
      ]
     },
     "metadata": {},
     "output_type": "display_data"
    },
    {
     "name": "stdout",
     "output_type": "stream",
     "text": [
      "\n"
     ]
    }
   ],
   "source": [
    "train_data2 = train_data[train_data['category']==2]\n",
    "\n",
    "for count in range(0,1):\n",
    "    for imagefile in tqdm(train_data2['image']):\n",
    "        image_path = '../ship dataset/train/images/' + imagefile\n",
    "        im=Image.open(image_path)\n",
    "        im=im.convert(\"RGB\")\n",
    "        im_mirror = ImageOps.mirror(im)\n",
    "        im_rotate = im.rotate(45)\n",
    "        im_unsharp=im.filter(ImageFilter.UnsharpMask)\n",
    "    \n",
    "        im_mirror.save(str(count)+'mr_'+imagefile)\n",
    "        im_rotate.save(str(count)+'rt_'+imagefile)\n",
    "        im_unsharp.save(str(count)+'un_'+imagefile)"
   ]
  },
  {
   "cell_type": "code",
   "execution_count": 11,
   "metadata": {},
   "outputs": [
    {
     "data": {
      "application/vnd.jupyter.widget-view+json": {
       "model_id": "9b42b9a06b614746a849b98478b9223f",
       "version_major": 2,
       "version_minor": 0
      },
      "text/plain": [
       "HBox(children=(HTML(value=''), FloatProgress(value=0.0, max=1217.0), HTML(value='')))"
      ]
     },
     "metadata": {},
     "output_type": "display_data"
    },
    {
     "name": "stdout",
     "output_type": "stream",
     "text": [
      "\n"
     ]
    }
   ],
   "source": [
    "train_data5 = train_data[train_data['category']==5]\n",
    "\n",
    "for count in range(0,1):\n",
    "    for imagefile in tqdm(train_data5['image']):\n",
    "        image_path = '../ship dataset/train/images/' + imagefile\n",
    "        im=Image.open(image_path)\n",
    "        im=im.convert(\"RGB\")\n",
    "        im_mirror = ImageOps.mirror(im)\n",
    "        im_rotate = im.rotate(45)\n",
    "        im_unsharp=im.filter(ImageFilter.UnsharpMask)\n",
    "    \n",
    "        im_mirror.save(str(count)+'mr_'+imagefile)\n",
    "        im_rotate.save(str(count)+'rt_'+imagefile)\n",
    "        im_unsharp.save(str(count)+'un_'+imagefile)"
   ]
  },
  {
   "cell_type": "code",
   "execution_count": 12,
   "metadata": {},
   "outputs": [
    {
     "data": {
      "application/vnd.jupyter.widget-view+json": {
       "model_id": "0cd5c57e8d88420795e52fe7759e95f4",
       "version_major": 2,
       "version_minor": 0
      },
      "text/plain": [
       "HBox(children=(HTML(value=''), FloatProgress(value=0.0, max=2120.0), HTML(value='')))"
      ]
     },
     "metadata": {},
     "output_type": "display_data"
    },
    {
     "name": "stdout",
     "output_type": "stream",
     "text": [
      "\n"
     ]
    }
   ],
   "source": [
    "train_data1 = train_data[train_data['category']==1]\n",
    "\n",
    "for count in range(0,1):\n",
    "    for imagefile in tqdm(train_data1['image']):\n",
    "        image_path = '../ship dataset/train/images/' + imagefile\n",
    "        im=Image.open(image_path)\n",
    "        im=im.convert(\"RGB\")\n",
    "        im_mirror = ImageOps.mirror(im)\n",
    "        im_rotate = im.rotate(45)\n",
    "    \n",
    "        im_mirror.save(str(count)+'mr_'+imagefile)\n",
    "        im_rotate.save(str(count)+'rt_'+imagefile)"
   ]
  },
  {
   "cell_type": "markdown",
   "metadata": {},
   "source": [
    "## New Augmented Image Dataset "
   ]
  },
  {
   "cell_type": "code",
   "execution_count": 13,
   "metadata": {},
   "outputs": [
    {
     "data": {
      "text/html": [
       "<div>\n",
       "<style scoped>\n",
       "    .dataframe tbody tr th:only-of-type {\n",
       "        vertical-align: middle;\n",
       "    }\n",
       "\n",
       "    .dataframe tbody tr th {\n",
       "        vertical-align: top;\n",
       "    }\n",
       "\n",
       "    .dataframe thead th {\n",
       "        text-align: right;\n",
       "    }\n",
       "</style>\n",
       "<table border=\"1\" class=\"dataframe\">\n",
       "  <thead>\n",
       "    <tr style=\"text-align: right;\">\n",
       "      <th></th>\n",
       "      <th>image</th>\n",
       "      <th>category</th>\n",
       "    </tr>\n",
       "  </thead>\n",
       "  <tbody>\n",
       "    <tr>\n",
       "      <th>0</th>\n",
       "      <td>2823080.jpg</td>\n",
       "      <td>1</td>\n",
       "    </tr>\n",
       "    <tr>\n",
       "      <th>1</th>\n",
       "      <td>0mr_2821047.jpg</td>\n",
       "      <td>1</td>\n",
       "    </tr>\n",
       "    <tr>\n",
       "      <th>2</th>\n",
       "      <td>0rt_2853900.jpg</td>\n",
       "      <td>5</td>\n",
       "    </tr>\n",
       "    <tr>\n",
       "      <th>3</th>\n",
       "      <td>0mr_1613703.jpg</td>\n",
       "      <td>4</td>\n",
       "    </tr>\n",
       "    <tr>\n",
       "      <th>4</th>\n",
       "      <td>2028965.jpg</td>\n",
       "      <td>4</td>\n",
       "    </tr>\n",
       "  </tbody>\n",
       "</table>\n",
       "</div>"
      ],
      "text/plain": [
       "             image  category\n",
       "0      2823080.jpg         1\n",
       "1  0mr_2821047.jpg         1\n",
       "2  0rt_2853900.jpg         5\n",
       "3  0mr_1613703.jpg         4\n",
       "4      2028965.jpg         4"
      ]
     },
     "execution_count": 13,
     "metadata": {},
     "output_type": "execute_result"
    }
   ],
   "source": [
    "# Loading augmented training dataset\n",
    "training_data = pd.read_csv('../ship dataset/train/train_augmented.csv')\n",
    "training_data.head()"
   ]
  },
  {
   "cell_type": "code",
   "execution_count": 14,
   "metadata": {},
   "outputs": [
    {
     "data": {
      "image/png": "[encoded data removed]",
      "text/plain": [
       "<Figure size 432x288 with 1 Axes>"
      ]
     },
     "metadata": {},
     "output_type": "display_data"
    }
   ],
   "source": [
    "#Pie Chart\n",
    "number_of_ships_in_classes = [training_data['category'].value_counts()[1], training_data['category'].value_counts()[2],\n",
    "                              training_data['category'].value_counts()[3], training_data['category'].value_counts()[4],\n",
    "                              training_data['category'].value_counts()[5]];\n",
    "\n",
    "percentages = [training_data['category'].value_counts()[1]/len(training_data),\n",
    "               training_data['category'].value_counts()[2]/len(training_data),\n",
    "               training_data['category'].value_counts()[3]/len(training_data),\n",
    "               training_data['category'].value_counts()[4]/len(training_data),\n",
    "               training_data['category'].value_counts()[5]/len(training_data)]\n",
    "\n",
    "plt.pie (number_of_ships_in_classes, labels=['Cargo - '+ format(percentages[0]*100, '.2f') + '%',\n",
    "                                             'Military - '+ format(percentages[1]*100, '.2f') + '%',\n",
    "                                             'Carrier - '+ format(percentages[2]*100, '.2f') + '%', \n",
    "                                             'Cruise - '+ format(percentages[3]*100, '.2f') + '%', \n",
    "                                             'Tankers - '+ format(percentages[4]*100, '.2f') + '%'], radius = 1.5);"
   ]
  },
  {
   "cell_type": "code",
   "execution_count": 15,
   "metadata": {},
   "outputs": [
    {
     "data": {
      "image/png": "[encoded data removed]",
      "text/plain": [
       "<Figure size 432x288 with 1 Axes>"
      ]
     },
     "metadata": {
      "needs_background": "light"
     },
     "output_type": "display_data"
    }
   ],
   "source": [
    "#Bar Chart\n",
    "fig = plt.figure()\n",
    "ax = fig.add_axes([0,0,1,1])\n",
    "ax.bar(['Cargo', 'Military', 'Carrier', 'Cruise', 'Tankers'], number_of_ships_in_classes, \n",
    "       color=['#1F77B4', '#FF7F0E', '#2CA02C', '#D62728', '#9467BD'])\n",
    "plt.show()"
   ]
  },
  {
   "cell_type": "code",
   "execution_count": 16,
   "metadata": {},
   "outputs": [
    {
     "name": "stdout",
     "output_type": "stream",
     "text": [
      "Cargo    : 4000 \n",
      "Military : 4000 \n",
      "Carrier  : 4000 \n",
      "Cruise   : 4000 \n",
      "Tankers  : 4000\n"
     ]
    }
   ],
   "source": [
    "print('Cargo    : {} \\nMilitary : {} \\nCarrier  : {} \\nCruise   : {} \\nTankers  : {}'.format(number_of_ships_in_classes[0],\n",
    "                                                                                             number_of_ships_in_classes[1],\n",
    "                                                                                             number_of_ships_in_classes[2],\n",
    "                                                                                             number_of_ships_in_classes[3],\n",
    "                                                                                             number_of_ships_in_classes[4]))"
   ]
  },
  {
   "cell_type": "code",
   "execution_count": null,
   "metadata": {},
   "outputs": [],
   "source": []
  }
 ],
 "metadata": {
  "kernelspec": {
   "display_name": "Python 3",
   "language": "python",
   "name": "python3"
  },
  "language_info": {
   "codemirror_mode": {
    "name": "ipython",
    "version": 3
   },
   "file_extension": ".py",
   "mimetype": "text/x-python",
   "name": "python",
   "nbconvert_exporter": "python",
   "pygments_lexer": "ipython3",
   "version": "3.8.5"
  }
 },
 "nbformat": 4,
 "nbformat_minor": 4
}
